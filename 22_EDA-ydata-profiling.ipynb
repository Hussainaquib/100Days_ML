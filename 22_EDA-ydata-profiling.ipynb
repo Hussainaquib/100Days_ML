{
 "cells": [
  {
   "cell_type": "code",
   "execution_count": 6,
   "id": "856d5fd9",
   "metadata": {},
   "outputs": [
    {
     "name": "stdout",
     "output_type": "stream",
     "text": [
      "Requirement already satisfied: pandas in c:\\users\\91975\\anaconda3\\lib\\site-packages (1.5.3)\n",
      "Requirement already satisfied: python-dateutil>=2.8.1 in c:\\users\\91975\\anaconda3\\lib\\site-packages (from pandas) (2.8.2)\n",
      "Requirement already satisfied: numpy>=1.21.0 in c:\\users\\91975\\anaconda3\\lib\\site-packages (from pandas) (1.23.5)\n",
      "Requirement already satisfied: pytz>=2020.1 in c:\\users\\91975\\anaconda3\\lib\\site-packages (from pandas) (2022.7)\n",
      "Requirement already satisfied: six>=1.5 in c:\\users\\91975\\anaconda3\\lib\\site-packages (from python-dateutil>=2.8.1->pandas) (1.16.0)\n",
      "Requirement already satisfied: ipywidgets in c:\\users\\91975\\anaconda3\\lib\\site-packages (7.6.5)\n",
      "Requirement already satisfied: widgetsnbextension~=3.5.0 in c:\\users\\91975\\anaconda3\\lib\\site-packages (from ipywidgets) (3.5.2)\n",
      "Requirement already satisfied: nbformat>=4.2.0 in c:\\users\\91975\\anaconda3\\lib\\site-packages (from ipywidgets) (5.7.0)\n",
      "Requirement already satisfied: ipykernel>=4.5.1 in c:\\users\\91975\\anaconda3\\lib\\site-packages (from ipywidgets) (6.19.2)\n",
      "Requirement already satisfied: traitlets>=4.3.1 in c:\\users\\91975\\anaconda3\\lib\\site-packages (from ipywidgets) (5.7.1)\n",
      "Requirement already satisfied: ipython>=4.0.0 in c:\\users\\91975\\anaconda3\\lib\\site-packages (from ipywidgets) (8.10.0)\n",
      "Requirement already satisfied: ipython-genutils~=0.2.0 in c:\\users\\91975\\anaconda3\\lib\\site-packages (from ipywidgets) (0.2.0)\n",
      "Requirement already satisfied: jupyterlab-widgets>=1.0.0 in c:\\users\\91975\\anaconda3\\lib\\site-packages (from ipywidgets) (1.0.0)\n",
      "Requirement already satisfied: debugpy>=1.0 in c:\\users\\91975\\anaconda3\\lib\\site-packages (from ipykernel>=4.5.1->ipywidgets) (1.5.1)\n",
      "Requirement already satisfied: tornado>=6.1 in c:\\users\\91975\\anaconda3\\lib\\site-packages (from ipykernel>=4.5.1->ipywidgets) (6.1)\n",
      "Requirement already satisfied: pyzmq>=17 in c:\\users\\91975\\anaconda3\\lib\\site-packages (from ipykernel>=4.5.1->ipywidgets) (23.2.0)\n",
      "Requirement already satisfied: psutil in c:\\users\\91975\\anaconda3\\lib\\site-packages (from ipykernel>=4.5.1->ipywidgets) (5.9.0)\n",
      "Requirement already satisfied: matplotlib-inline>=0.1 in c:\\users\\91975\\anaconda3\\lib\\site-packages (from ipykernel>=4.5.1->ipywidgets) (0.1.6)\n",
      "Requirement already satisfied: nest-asyncio in c:\\users\\91975\\anaconda3\\lib\\site-packages (from ipykernel>=4.5.1->ipywidgets) (1.5.6)\n",
      "Requirement already satisfied: jupyter-client>=6.1.12 in c:\\users\\91975\\anaconda3\\lib\\site-packages (from ipykernel>=4.5.1->ipywidgets) (7.3.4)\n",
      "Requirement already satisfied: comm>=0.1.1 in c:\\users\\91975\\anaconda3\\lib\\site-packages (from ipykernel>=4.5.1->ipywidgets) (0.1.2)\n",
      "Requirement already satisfied: packaging in c:\\users\\91975\\anaconda3\\lib\\site-packages (from ipykernel>=4.5.1->ipywidgets) (22.0)\n",
      "Requirement already satisfied: prompt-toolkit<3.1.0,>=3.0.30 in c:\\users\\91975\\anaconda3\\lib\\site-packages (from ipython>=4.0.0->ipywidgets) (3.0.36)\n",
      "Requirement already satisfied: jedi>=0.16 in c:\\users\\91975\\anaconda3\\lib\\site-packages (from ipython>=4.0.0->ipywidgets) (0.18.1)\n",
      "Requirement already satisfied: decorator in c:\\users\\91975\\anaconda3\\lib\\site-packages (from ipython>=4.0.0->ipywidgets) (5.1.1)\n",
      "Requirement already satisfied: pygments>=2.4.0 in c:\\users\\91975\\anaconda3\\lib\\site-packages (from ipython>=4.0.0->ipywidgets) (2.16.1)\n",
      "Requirement already satisfied: pickleshare in c:\\users\\91975\\anaconda3\\lib\\site-packages (from ipython>=4.0.0->ipywidgets) (0.7.5)\n",
      "Requirement already satisfied: colorama in c:\\users\\91975\\anaconda3\\lib\\site-packages (from ipython>=4.0.0->ipywidgets) (0.4.6)\n",
      "Requirement already satisfied: backcall in c:\\users\\91975\\anaconda3\\lib\\site-packages (from ipython>=4.0.0->ipywidgets) (0.2.0)\n",
      "Requirement already satisfied: stack-data in c:\\users\\91975\\anaconda3\\lib\\site-packages (from ipython>=4.0.0->ipywidgets) (0.2.0)\n",
      "Requirement already satisfied: jsonschema>=2.6 in c:\\users\\91975\\anaconda3\\lib\\site-packages (from nbformat>=4.2.0->ipywidgets) (4.17.3)\n",
      "Requirement already satisfied: fastjsonschema in c:\\users\\91975\\anaconda3\\lib\\site-packages (from nbformat>=4.2.0->ipywidgets) (2.16.2)\n",
      "Requirement already satisfied: jupyter-core in c:\\users\\91975\\anaconda3\\lib\\site-packages (from nbformat>=4.2.0->ipywidgets) (5.2.0)\n",
      "Requirement already satisfied: notebook>=4.4.1 in c:\\users\\91975\\anaconda3\\lib\\site-packages (from widgetsnbextension~=3.5.0->ipywidgets) (6.5.2)\n",
      "Requirement already satisfied: parso<0.9.0,>=0.8.0 in c:\\users\\91975\\anaconda3\\lib\\site-packages (from jedi>=0.16->ipython>=4.0.0->ipywidgets) (0.8.3)\n",
      "Requirement already satisfied: pyrsistent!=0.17.0,!=0.17.1,!=0.17.2,>=0.14.0 in c:\\users\\91975\\anaconda3\\lib\\site-packages (from jsonschema>=2.6->nbformat>=4.2.0->ipywidgets) (0.18.0)\n",
      "Requirement already satisfied: attrs>=17.4.0 in c:\\users\\91975\\anaconda3\\lib\\site-packages (from jsonschema>=2.6->nbformat>=4.2.0->ipywidgets) (22.1.0)\n",
      "Requirement already satisfied: entrypoints in c:\\users\\91975\\anaconda3\\lib\\site-packages (from jupyter-client>=6.1.12->ipykernel>=4.5.1->ipywidgets) (0.4)\n",
      "Requirement already satisfied: python-dateutil>=2.8.2 in c:\\users\\91975\\anaconda3\\lib\\site-packages (from jupyter-client>=6.1.12->ipykernel>=4.5.1->ipywidgets) (2.8.2)\n",
      "Requirement already satisfied: pywin32>=1.0 in c:\\users\\91975\\anaconda3\\lib\\site-packages (from jupyter-core->nbformat>=4.2.0->ipywidgets) (305.1)\n",
      "Requirement already satisfied: platformdirs>=2.5 in c:\\users\\91975\\anaconda3\\lib\\site-packages (from jupyter-core->nbformat>=4.2.0->ipywidgets) (2.5.2)\n",
      "Requirement already satisfied: Send2Trash>=1.8.0 in c:\\users\\91975\\anaconda3\\lib\\site-packages (from notebook>=4.4.1->widgetsnbextension~=3.5.0->ipywidgets) (1.8.0)\n",
      "Requirement already satisfied: terminado>=0.8.3 in c:\\users\\91975\\anaconda3\\lib\\site-packages (from notebook>=4.4.1->widgetsnbextension~=3.5.0->ipywidgets) (0.17.1)\n",
      "Requirement already satisfied: argon2-cffi in c:\\users\\91975\\anaconda3\\lib\\site-packages (from notebook>=4.4.1->widgetsnbextension~=3.5.0->ipywidgets) (21.3.0)\n",
      "Requirement already satisfied: jinja2 in c:\\users\\91975\\anaconda3\\lib\\site-packages (from notebook>=4.4.1->widgetsnbextension~=3.5.0->ipywidgets) (3.1.2)\n",
      "Requirement already satisfied: nbconvert>=5 in c:\\users\\91975\\anaconda3\\lib\\site-packages (from notebook>=4.4.1->widgetsnbextension~=3.5.0->ipywidgets) (6.5.4)\n",
      "Requirement already satisfied: prometheus-client in c:\\users\\91975\\anaconda3\\lib\\site-packages (from notebook>=4.4.1->widgetsnbextension~=3.5.0->ipywidgets) (0.14.1)\n",
      "Requirement already satisfied: nbclassic>=0.4.7 in c:\\users\\91975\\anaconda3\\lib\\site-packages (from notebook>=4.4.1->widgetsnbextension~=3.5.0->ipywidgets) (0.5.2)\n",
      "Requirement already satisfied: wcwidth in c:\\users\\91975\\anaconda3\\lib\\site-packages (from prompt-toolkit<3.1.0,>=3.0.30->ipython>=4.0.0->ipywidgets) (0.2.5)\n",
      "Requirement already satisfied: pure-eval in c:\\users\\91975\\anaconda3\\lib\\site-packages (from stack-data->ipython>=4.0.0->ipywidgets) (0.2.2)\n",
      "Requirement already satisfied: executing in c:\\users\\91975\\anaconda3\\lib\\site-packages (from stack-data->ipython>=4.0.0->ipywidgets) (0.8.3)\n",
      "Requirement already satisfied: asttokens in c:\\users\\91975\\anaconda3\\lib\\site-packages (from stack-data->ipython>=4.0.0->ipywidgets) (2.0.5)\n",
      "Requirement already satisfied: jupyter-server>=1.8 in c:\\users\\91975\\anaconda3\\lib\\site-packages (from nbclassic>=0.4.7->notebook>=4.4.1->widgetsnbextension~=3.5.0->ipywidgets) (1.23.4)\n",
      "Requirement already satisfied: notebook-shim>=0.1.0 in c:\\users\\91975\\anaconda3\\lib\\site-packages (from nbclassic>=0.4.7->notebook>=4.4.1->widgetsnbextension~=3.5.0->ipywidgets) (0.2.2)\n",
      "Requirement already satisfied: tinycss2 in c:\\users\\91975\\anaconda3\\lib\\site-packages (from nbconvert>=5->notebook>=4.4.1->widgetsnbextension~=3.5.0->ipywidgets) (1.2.1)\n",
      "Requirement already satisfied: pandocfilters>=1.4.1 in c:\\users\\91975\\anaconda3\\lib\\site-packages (from nbconvert>=5->notebook>=4.4.1->widgetsnbextension~=3.5.0->ipywidgets) (1.5.0)\n",
      "Requirement already satisfied: MarkupSafe>=2.0 in c:\\users\\91975\\anaconda3\\lib\\site-packages (from nbconvert>=5->notebook>=4.4.1->widgetsnbextension~=3.5.0->ipywidgets) (2.1.1)\n",
      "Requirement already satisfied: bleach in c:\\users\\91975\\anaconda3\\lib\\site-packages (from nbconvert>=5->notebook>=4.4.1->widgetsnbextension~=3.5.0->ipywidgets) (4.1.0)\n",
      "Requirement already satisfied: defusedxml in c:\\users\\91975\\anaconda3\\lib\\site-packages (from nbconvert>=5->notebook>=4.4.1->widgetsnbextension~=3.5.0->ipywidgets) (0.7.1)\n",
      "Requirement already satisfied: mistune<2,>=0.8.1 in c:\\users\\91975\\anaconda3\\lib\\site-packages (from nbconvert>=5->notebook>=4.4.1->widgetsnbextension~=3.5.0->ipywidgets) (0.8.4)\n",
      "Requirement already satisfied: nbclient>=0.5.0 in c:\\users\\91975\\anaconda3\\lib\\site-packages (from nbconvert>=5->notebook>=4.4.1->widgetsnbextension~=3.5.0->ipywidgets) (0.5.13)\n",
      "Requirement already satisfied: lxml in c:\\users\\91975\\anaconda3\\lib\\site-packages (from nbconvert>=5->notebook>=4.4.1->widgetsnbextension~=3.5.0->ipywidgets) (4.9.1)\n",
      "Requirement already satisfied: jupyterlab-pygments in c:\\users\\91975\\anaconda3\\lib\\site-packages (from nbconvert>=5->notebook>=4.4.1->widgetsnbextension~=3.5.0->ipywidgets) (0.1.2)\n",
      "Requirement already satisfied: beautifulsoup4 in c:\\users\\91975\\anaconda3\\lib\\site-packages (from nbconvert>=5->notebook>=4.4.1->widgetsnbextension~=3.5.0->ipywidgets) (4.11.1)\n",
      "Requirement already satisfied: six>=1.5 in c:\\users\\91975\\anaconda3\\lib\\site-packages (from python-dateutil>=2.8.2->jupyter-client>=6.1.12->ipykernel>=4.5.1->ipywidgets) (1.16.0)\n",
      "Requirement already satisfied: pywinpty>=1.1.0 in c:\\users\\91975\\anaconda3\\lib\\site-packages (from terminado>=0.8.3->notebook>=4.4.1->widgetsnbextension~=3.5.0->ipywidgets) (2.0.10)\n",
      "Requirement already satisfied: argon2-cffi-bindings in c:\\users\\91975\\anaconda3\\lib\\site-packages (from argon2-cffi->notebook>=4.4.1->widgetsnbextension~=3.5.0->ipywidgets) (21.2.0)\n",
      "Requirement already satisfied: anyio<4,>=3.1.0 in c:\\users\\91975\\anaconda3\\lib\\site-packages (from jupyter-server>=1.8->nbclassic>=0.4.7->notebook>=4.4.1->widgetsnbextension~=3.5.0->ipywidgets) (3.5.0)\n",
      "Requirement already satisfied: websocket-client in c:\\users\\91975\\anaconda3\\lib\\site-packages (from jupyter-server>=1.8->nbclassic>=0.4.7->notebook>=4.4.1->widgetsnbextension~=3.5.0->ipywidgets) (0.58.0)\n",
      "Requirement already satisfied: cffi>=1.0.1 in c:\\users\\91975\\anaconda3\\lib\\site-packages (from argon2-cffi-bindings->argon2-cffi->notebook>=4.4.1->widgetsnbextension~=3.5.0->ipywidgets) (1.15.1)\n",
      "Requirement already satisfied: soupsieve>1.2 in c:\\users\\91975\\anaconda3\\lib\\site-packages (from beautifulsoup4->nbconvert>=5->notebook>=4.4.1->widgetsnbextension~=3.5.0->ipywidgets) (2.3.2.post1)\n",
      "Requirement already satisfied: webencodings in c:\\users\\91975\\anaconda3\\lib\\site-packages (from bleach->nbconvert>=5->notebook>=4.4.1->widgetsnbextension~=3.5.0->ipywidgets) (0.5.1)\n",
      "Requirement already satisfied: sniffio>=1.1 in c:\\users\\91975\\anaconda3\\lib\\site-packages (from anyio<4,>=3.1.0->jupyter-server>=1.8->nbclassic>=0.4.7->notebook>=4.4.1->widgetsnbextension~=3.5.0->ipywidgets) (1.2.0)\n",
      "Requirement already satisfied: idna>=2.8 in c:\\users\\91975\\anaconda3\\lib\\site-packages (from anyio<4,>=3.1.0->jupyter-server>=1.8->nbclassic>=0.4.7->notebook>=4.4.1->widgetsnbextension~=3.5.0->ipywidgets) (3.4)\n",
      "Requirement already satisfied: pycparser in c:\\users\\91975\\anaconda3\\lib\\site-packages (from cffi>=1.0.1->argon2-cffi-bindings->argon2-cffi->notebook>=4.4.1->widgetsnbextension~=3.5.0->ipywidgets) (2.21)\n",
      "Requirement already satisfied: ipython in c:\\users\\91975\\anaconda3\\lib\\site-packages (8.10.0)\n",
      "Requirement already satisfied: pickleshare in c:\\users\\91975\\anaconda3\\lib\\site-packages (from ipython) (0.7.5)\n",
      "Requirement already satisfied: prompt-toolkit<3.1.0,>=3.0.30 in c:\\users\\91975\\anaconda3\\lib\\site-packages (from ipython) (3.0.36)\n",
      "Requirement already satisfied: traitlets>=5 in c:\\users\\91975\\anaconda3\\lib\\site-packages (from ipython) (5.7.1)\n",
      "Requirement already satisfied: jedi>=0.16 in c:\\users\\91975\\anaconda3\\lib\\site-packages (from ipython) (0.18.1)\n",
      "Requirement already satisfied: colorama in c:\\users\\91975\\anaconda3\\lib\\site-packages (from ipython) (0.4.6)\n",
      "Requirement already satisfied: matplotlib-inline in c:\\users\\91975\\anaconda3\\lib\\site-packages (from ipython) (0.1.6)\n",
      "Requirement already satisfied: stack-data in c:\\users\\91975\\anaconda3\\lib\\site-packages (from ipython) (0.2.0)\n",
      "Requirement already satisfied: decorator in c:\\users\\91975\\anaconda3\\lib\\site-packages (from ipython) (5.1.1)\n",
      "Requirement already satisfied: pygments>=2.4.0 in c:\\users\\91975\\anaconda3\\lib\\site-packages (from ipython) (2.16.1)\n",
      "Requirement already satisfied: backcall in c:\\users\\91975\\anaconda3\\lib\\site-packages (from ipython) (0.2.0)\n",
      "Requirement already satisfied: parso<0.9.0,>=0.8.0 in c:\\users\\91975\\anaconda3\\lib\\site-packages (from jedi>=0.16->ipython) (0.8.3)\n",
      "Requirement already satisfied: wcwidth in c:\\users\\91975\\anaconda3\\lib\\site-packages (from prompt-toolkit<3.1.0,>=3.0.30->ipython) (0.2.5)\n",
      "Requirement already satisfied: executing in c:\\users\\91975\\anaconda3\\lib\\site-packages (from stack-data->ipython) (0.8.3)\n",
      "Requirement already satisfied: pure-eval in c:\\users\\91975\\anaconda3\\lib\\site-packages (from stack-data->ipython) (0.2.2)\n",
      "Requirement already satisfied: asttokens in c:\\users\\91975\\anaconda3\\lib\\site-packages (from stack-data->ipython) (2.0.5)\n",
      "Requirement already satisfied: six in c:\\users\\91975\\anaconda3\\lib\\site-packages (from asttokens->stack-data->ipython) (1.16.0)\n",
      "Requirement already satisfied: ydata-profiling in c:\\users\\91975\\anaconda3\\lib\\site-packages (4.5.1)\n",
      "Requirement already satisfied: seaborn<0.13,>=0.10.1 in c:\\users\\91975\\anaconda3\\lib\\site-packages (from ydata-profiling) (0.12.2)\n",
      "Requirement already satisfied: jinja2<3.2,>=2.11.1 in c:\\users\\91975\\anaconda3\\lib\\site-packages (from ydata-profiling) (3.1.2)\n",
      "Requirement already satisfied: tqdm<5,>=4.48.2 in c:\\users\\91975\\anaconda3\\lib\\site-packages (from ydata-profiling) (4.64.1)\n",
      "Requirement already satisfied: phik<0.13,>=0.11.1 in c:\\users\\91975\\anaconda3\\lib\\site-packages (from ydata-profiling) (0.12.3)\n",
      "Requirement already satisfied: typeguard<3,>=2.13.2 in c:\\users\\91975\\anaconda3\\lib\\site-packages (from ydata-profiling) (2.13.3)\n",
      "Requirement already satisfied: numpy<1.24,>=1.16.0 in c:\\users\\91975\\anaconda3\\lib\\site-packages (from ydata-profiling) (1.23.5)\n",
      "Requirement already satisfied: statsmodels<1,>=0.13.2 in c:\\users\\91975\\anaconda3\\lib\\site-packages (from ydata-profiling) (0.13.5)\n",
      "Requirement already satisfied: wordcloud>=1.9.1 in c:\\users\\91975\\anaconda3\\lib\\site-packages (from ydata-profiling) (1.9.2)\n",
      "Requirement already satisfied: htmlmin==0.1.12 in c:\\users\\91975\\anaconda3\\lib\\site-packages (from ydata-profiling) (0.1.12)\n",
      "Requirement already satisfied: matplotlib<4,>=3.2 in c:\\users\\91975\\anaconda3\\lib\\site-packages (from ydata-profiling) (3.7.0)\n",
      "Requirement already satisfied: dacite>=1.8 in c:\\users\\91975\\anaconda3\\lib\\site-packages (from ydata-profiling) (1.8.1)\n",
      "Requirement already satisfied: requests<3,>=2.24.0 in c:\\users\\91975\\anaconda3\\lib\\site-packages (from ydata-profiling) (2.28.1)\n",
      "Requirement already satisfied: PyYAML<6.1,>=5.0.0 in c:\\users\\91975\\anaconda3\\lib\\site-packages (from ydata-profiling) (6.0)\n",
      "Requirement already satisfied: imagehash==4.3.1 in c:\\users\\91975\\anaconda3\\lib\\site-packages (from ydata-profiling) (4.3.1)\n",
      "Requirement already satisfied: multimethod<2,>=1.4 in c:\\users\\91975\\anaconda3\\lib\\site-packages (from ydata-profiling) (1.9.1)\n",
      "Requirement already satisfied: pandas!=1.4.0,<2.1,>1.1 in c:\\users\\91975\\anaconda3\\lib\\site-packages (from ydata-profiling) (1.5.3)\n",
      "Requirement already satisfied: pydantic<2,>=1.8.1 in c:\\users\\91975\\anaconda3\\lib\\site-packages (from ydata-profiling) (1.10.12)\n",
      "Requirement already satisfied: visions[type_image_path]==0.7.5 in c:\\users\\91975\\anaconda3\\lib\\site-packages (from ydata-profiling) (0.7.5)\n",
      "Requirement already satisfied: scipy<1.12,>=1.4.1 in c:\\users\\91975\\anaconda3\\lib\\site-packages (from ydata-profiling) (1.10.0)\n",
      "Requirement already satisfied: PyWavelets in c:\\users\\91975\\anaconda3\\lib\\site-packages (from imagehash==4.3.1->ydata-profiling) (1.4.1)\n",
      "Requirement already satisfied: pillow in c:\\users\\91975\\anaconda3\\lib\\site-packages (from imagehash==4.3.1->ydata-profiling) (9.4.0)\n",
      "Requirement already satisfied: networkx>=2.4 in c:\\users\\91975\\anaconda3\\lib\\site-packages (from visions[type_image_path]==0.7.5->ydata-profiling) (2.8.4)\n",
      "Requirement already satisfied: attrs>=19.3.0 in c:\\users\\91975\\anaconda3\\lib\\site-packages (from visions[type_image_path]==0.7.5->ydata-profiling) (22.1.0)\n",
      "Requirement already satisfied: tangled-up-in-unicode>=0.0.4 in c:\\users\\91975\\anaconda3\\lib\\site-packages (from visions[type_image_path]==0.7.5->ydata-profiling) (0.2.0)\n",
      "Requirement already satisfied: MarkupSafe>=2.0 in c:\\users\\91975\\anaconda3\\lib\\site-packages (from jinja2<3.2,>=2.11.1->ydata-profiling) (2.1.1)\n",
      "Requirement already satisfied: fonttools>=4.22.0 in c:\\users\\91975\\anaconda3\\lib\\site-packages (from matplotlib<4,>=3.2->ydata-profiling) (4.25.0)\n",
      "Requirement already satisfied: cycler>=0.10 in c:\\users\\91975\\anaconda3\\lib\\site-packages (from matplotlib<4,>=3.2->ydata-profiling) (0.11.0)\n",
      "Requirement already satisfied: packaging>=20.0 in c:\\users\\91975\\anaconda3\\lib\\site-packages (from matplotlib<4,>=3.2->ydata-profiling) (22.0)\n",
      "Requirement already satisfied: python-dateutil>=2.7 in c:\\users\\91975\\anaconda3\\lib\\site-packages (from matplotlib<4,>=3.2->ydata-profiling) (2.8.2)\n",
      "Requirement already satisfied: pyparsing>=2.3.1 in c:\\users\\91975\\anaconda3\\lib\\site-packages (from matplotlib<4,>=3.2->ydata-profiling) (3.0.9)\n",
      "Requirement already satisfied: contourpy>=1.0.1 in c:\\users\\91975\\anaconda3\\lib\\site-packages (from matplotlib<4,>=3.2->ydata-profiling) (1.0.5)\n",
      "Requirement already satisfied: kiwisolver>=1.0.1 in c:\\users\\91975\\anaconda3\\lib\\site-packages (from matplotlib<4,>=3.2->ydata-profiling) (1.4.4)\n",
      "Requirement already satisfied: pytz>=2020.1 in c:\\users\\91975\\anaconda3\\lib\\site-packages (from pandas!=1.4.0,<2.1,>1.1->ydata-profiling) (2022.7)\n",
      "Requirement already satisfied: joblib>=0.14.1 in c:\\users\\91975\\anaconda3\\lib\\site-packages (from phik<0.13,>=0.11.1->ydata-profiling) (1.1.1)\n",
      "Requirement already satisfied: typing-extensions>=4.2.0 in c:\\users\\91975\\anaconda3\\lib\\site-packages (from pydantic<2,>=1.8.1->ydata-profiling) (4.4.0)\n",
      "Requirement already satisfied: charset-normalizer<3,>=2 in c:\\users\\91975\\anaconda3\\lib\\site-packages (from requests<3,>=2.24.0->ydata-profiling) (2.0.4)\n",
      "Requirement already satisfied: urllib3<1.27,>=1.21.1 in c:\\users\\91975\\anaconda3\\lib\\site-packages (from requests<3,>=2.24.0->ydata-profiling) (1.26.14)\n",
      "Requirement already satisfied: certifi>=2017.4.17 in c:\\users\\91975\\anaconda3\\lib\\site-packages (from requests<3,>=2.24.0->ydata-profiling) (2023.7.22)\n",
      "Requirement already satisfied: idna<4,>=2.5 in c:\\users\\91975\\anaconda3\\lib\\site-packages (from requests<3,>=2.24.0->ydata-profiling) (3.4)\n",
      "Requirement already satisfied: patsy>=0.5.2 in c:\\users\\91975\\anaconda3\\lib\\site-packages (from statsmodels<1,>=0.13.2->ydata-profiling) (0.5.3)\n",
      "Requirement already satisfied: colorama in c:\\users\\91975\\anaconda3\\lib\\site-packages (from tqdm<5,>=4.48.2->ydata-profiling) (0.4.6)\n",
      "Requirement already satisfied: six in c:\\users\\91975\\anaconda3\\lib\\site-packages (from patsy>=0.5.2->statsmodels<1,>=0.13.2->ydata-profiling) (1.16.0)\n"
     ]
    }
   ],
   "source": [
    "!pip install pandas\n",
    "!pip install ipywidgets\n",
    "!pip install ipython\n",
    "!pip install ydata-profiling"
   ]
  },
  {
   "cell_type": "code",
   "execution_count": null,
   "id": "3c566e21",
   "metadata": {},
   "outputs": [],
   "source": [
    "'''\n",
    "if we use pandas_profiling we give this type of warning\n",
    "\n",
    "DeprecationWarning: `import pandas_profiling` is going to be deprecated by April 1st. \n",
    "Please use `import ydata_profiling` instead.\n",
    "from pandas_profiling import ProfileReport\n",
    "  \n",
    "To resolve this warning The warning you're seeing is indicating that the\n",
    "pandas_profiling library is going to be deprecated and that you should use the\n",
    "ydata_profiling library instead. The ydata_profiling library is the successor of\n",
    "pandas_profiling and provides similar functionality for generating profile reports from a DataFrame.\n",
    "'''"
   ]
  },
  {
   "cell_type": "code",
   "execution_count": 5,
   "id": "b033ad46",
   "metadata": {},
   "outputs": [
    {
     "data": {
      "application/vnd.jupyter.widget-view+json": {
       "model_id": "7e608fecc9254f0a844f9764cdc07388",
       "version_major": 2,
       "version_minor": 0
      },
      "text/plain": [
       "VBox(children=(FileUpload(value={}, accept='.csv', description='Upload CSV File'), Button(description='Process…"
      ]
     },
     "metadata": {},
     "output_type": "display_data"
    },
    {
     "data": {
      "application/vnd.jupyter.widget-view+json": {
       "model_id": "a8cefadb0414424b8050755918c6bf55",
       "version_major": 2,
       "version_minor": 0
      },
      "text/plain": [
       "Summarize dataset:   0%|          | 0/5 [00:00<?, ?it/s]"
      ]
     },
     "metadata": {},
     "output_type": "display_data"
    },
    {
     "data": {
      "application/vnd.jupyter.widget-view+json": {
       "model_id": "71cf277bf5b749f2b292d0d8236f4262",
       "version_major": 2,
       "version_minor": 0
      },
      "text/plain": [
       "Generate report structure:   0%|          | 0/1 [00:00<?, ?it/s]"
      ]
     },
     "metadata": {},
     "output_type": "display_data"
    },
    {
     "data": {
      "application/vnd.jupyter.widget-view+json": {
       "model_id": "56859370d5da47069af8c3b3485228ea",
       "version_major": 2,
       "version_minor": 0
      },
      "text/plain": [
       "Render HTML:   0%|          | 0/1 [00:00<?, ?it/s]"
      ]
     },
     "metadata": {},
     "output_type": "display_data"
    },
    {
     "data": {
      "application/vnd.jupyter.widget-view+json": {
       "model_id": "72a8dbef9d074fe080c321de08ac834e",
       "version_major": 2,
       "version_minor": 0
      },
      "text/plain": [
       "Export report to file:   0%|          | 0/1 [00:00<?, ?it/s]"
      ]
     },
     "metadata": {},
     "output_type": "display_data"
    }
   ],
   "source": [
    "\n",
    "\n",
    "import pandas as pd\n",
    "from ydata_profiling import ProfileReport\n",
    "import ipywidgets as widgets\n",
    "from IPython.display import display, HTML\n",
    "\n",
    "# Create file upload widget\n",
    "file_upload = widgets.FileUpload(\n",
    "    accept='.csv',\n",
    "    multiple=False,\n",
    "    description='Upload CSV File'\n",
    ")\n",
    "\n",
    "# Create button widget\n",
    "process_button = widgets.Button(description='Process File')\n",
    "\n",
    "# Output widget for displaying HTML report\n",
    "output_html = widgets.Output()\n",
    "\n",
    "def process_file(change):\n",
    "    uploaded_file = file_upload.value\n",
    "    if uploaded_file:\n",
    "        file_name, file_info = uploaded_file.popitem()\n",
    "        content = file_info['content']\n",
    "        \n",
    "        with open(file_name, 'wb') as f:\n",
    "            f.write(content)\n",
    "        \n",
    "        df = pd.read_csv(file_name)\n",
    "        prof = ProfileReport(df)\n",
    "        prof.to_file(output_file='out.html')\n",
    "        \n",
    "        with output_html:\n",
    "            output_html.clear_output()\n",
    "            display(HTML(filename='out.html'))\n",
    "\n",
    "process_button.on_click(process_file)\n",
    "\n",
    "# Display widgets\n",
    "widgets.VBox([file_upload, process_button, output_html])\n"
   ]
  }
 ],
 "metadata": {
  "kernelspec": {
   "display_name": "Python 3 (ipykernel)",
   "language": "python",
   "name": "python3"
  },
  "language_info": {
   "codemirror_mode": {
    "name": "ipython",
    "version": 3
   },
   "file_extension": ".py",
   "mimetype": "text/x-python",
   "name": "python",
   "nbconvert_exporter": "python",
   "pygments_lexer": "ipython3",
   "version": "3.10.9"
  }
 },
 "nbformat": 4,
 "nbformat_minor": 5
}
